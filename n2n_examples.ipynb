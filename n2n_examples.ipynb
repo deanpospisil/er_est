{
 "cells": [
  {
   "cell_type": "code",
   "execution_count": 2,
   "id": "b62cf0d0-f5ff-4770-9767-c463c3c0d038",
   "metadata": {},
   "outputs": [],
   "source": [
    "import sys\n",
    "sys.path.append('..')\n",
    "import er_est as er\n",
    "import matplotlib.pyplot as plt\n",
    "import numpy as np"
   ]
  },
  {
   "cell_type": "markdown",
   "id": "53b1e704-0017-45fb-91ca-bc5fbd827204",
   "metadata": {},
   "source": [
    "## Neuron-to-neuron (n2n) correlation estimators\n",
    "Below I demonstrate the use of functions employed in 'The unbiased estimation of r2 between two sets of noisy neural responses' Pospisil and Bair, 2021  https://www.biorxiv.org/content/10.1101/2020.10.30.361253v1 where we develop a corrected estimator for correlation between independent noisy responses and 'Accounting for biases in the estimation of neuronal signal correlation' https://www.jneurosci.org/content/early/2021/05/11/JNEUROSCI.2775-20.2021/tab-article-info where we extend the prior estimator to the case of correlated noisy responses and apply it to find a relationship between signal correlation and tuning curve amplitude in area MT.\n",
    "Please see papers and code comments for further detail."
   ]
  },
  {
   "cell_type": "code",
   "execution_count": 3,
   "id": "1c726cc7-0f6c-42d5-9ce9-6b492b05f046",
   "metadata": {},
   "outputs": [
    {
     "data": {
      "text/plain": [
       "Text(0.5, 1.0, 'neuron-to-neuron simulation')"
      ]
     },
     "execution_count": 3,
     "metadata": {},
     "output_type": "execute_result"
    },
    {
     "data": {
      "image/png": "[encoded data removed]",
      "text/plain": [
       "<Figure size 432x288 with 1 Axes>"
      ]
     },
     "metadata": {
      "needs_background": "light"
     },
     "output_type": "display_data"
    }
   ],
   "source": [
    "# %% sim n2n and hat_r2er, hat_r2er_split and r2 applied to it\n",
    "r2er, sig2, d2y, n, m, n_exps = 0.5, 0.25, 200, 4, 500, 1000\n",
    "d2x = d2y\n",
    "x, y = er.sim_n2n(r2er, sig2, d2x, d2y, n, m, n_exps, verbose=True)\n",
    "hat_r2er, hat_r2 = er.r2er_n2n(x, y)\n",
    "\n",
    "hat_r2er_split = er.r2er_n2n_split(x, y, k_splits=100)\n",
    "\n",
    "\n",
    "plt.figure()\n",
    "\n",
    "plt.hist(hat_r2.squeeze(), histtype='step')\n",
    "plt.hist(hat_r2er.squeeze(), histtype='step')\n",
    "plt.hist(hat_r2er_split.squeeze(), histtype='step')\n",
    "plt.xlim(-0.1, 1.2)\n",
    "lly, uly = plt.gca().get_ylim()\n",
    "plt.plot([r2er, r2er], [lly, uly], c='k')\n",
    "plt.legend([r'$r^2_{\\rm ER}$',\n",
    "            r'$\\hat{r}^2$',\n",
    "            r'$\\hat{r}^2_{\\rm ER}$',\n",
    "            r'$\\hat{r}^2_{\\rm {ER}_{\\rm {split}}}$', ])\n",
    "plt.xlabel('estimate')\n",
    "plt.ylabel('simulation count')\n",
    "plt.title(r'neuron-to-neuron simulation')"
   ]
  },
  {
   "cell_type": "code",
   "execution_count": 4,
   "id": "92676f54-0d69-4602-9b42-f29f3534fa73",
   "metadata": {},
   "outputs": [
    {
     "name": "stdout",
     "output_type": "stream",
     "text": [
      "n2n ci\n",
      "lower  est upper\n",
      "0.46 0.49 0.57\n"
     ]
    }
   ],
   "source": [
    "# %% run ecci confidence interval method n2n, it is slow\n",
    "r2er, sig2, d2y, n, m, n_exps = 0.5, 0.25, 200, 4, 500, 1000\n",
    "d2x = d2y\n",
    "x, y = er.sim_n2n(r2er, sig2, d2x, d2y, n, m, n_exps, verbose=True)\n",
    "\n",
    "res = er.ecci_r2er_n2n(x[0], y[0],\n",
    "                       alpha_targ=0.1,\n",
    "                       n_r2er_sims=1000,\n",
    "                       p_thresh=0.01,\n",
    "                       n_splits=6, trace=None)\n",
    "ll, ul, r2er_hat_obs, trace, ll_alpha, ul_alpha = res\n",
    "\n",
    "print('n2n ci')\n",
    "print('lower  est upper')\n",
    "print(np.round(ll, 2), np.round(r2er_hat_obs.squeeze(), 2), np.round(ul, 2))"
   ]
  },
  {
   "cell_type": "code",
   "execution_count": 6,
   "id": "c2c542ea-8da0-4fe4-870b-ed47b2d5b791",
   "metadata": {},
   "outputs": [
    {
     "data": {
      "text/plain": [
       "Text(0.5, 1.0, 'neuron-to-neuron alternative estimates')"
      ]
     },
     "execution_count": 6,
     "metadata": {},
     "output_type": "execute_result"
    },
    {
     "data": {
      "image/png": "[encoded data removed]",
      "text/plain": [
       "<Figure size 432x288 with 1 Axes>"
      ]
     },
     "metadata": {
      "needs_background": "light"
     },
     "output_type": "display_data"
    }
   ],
   "source": [
    "# %%run simulation of alternative n2n methods\n",
    "r2er, sig2, d2y, n, m, n_exps = 0.5, 0.25, 40, 4, 500, 1000\n",
    "d2x = d2y\n",
    "x, y = er.sim_n2n(r2er, sig2, d2y, d2x, n, m, n_exps, verbose=True)\n",
    "res = []\n",
    "for i in range(n_exps):\n",
    "    a_y = y[i]\n",
    "    a_x = x[i]\n",
    "    hat_r2er, hat_r2 = er.r2er_n2n(a_x, a_y)\n",
    "    r2_spear_ad = er.hat_rho_0_spearman(a_x, a_y, correct_d2=False)**2\n",
    "    r2_pc_er = er.hat_rho_0_spearman(a_x, a_y, correct_d2=True)**2\n",
    "\n",
    "    res.append([np.double(hat_r2),\n",
    "                np.double(hat_r2er),\n",
    "                np.double(r2_spear_ad),\n",
    "                np.double(r2_pc_er), ])\n",
    "\n",
    "res = np.array(res)\n",
    "\n",
    "plt.figure()\n",
    "for i in range(4):\n",
    "    plt.hist(res[:, i], histtype='step', bins=30)\n",
    "\n",
    "leg = ['True',\n",
    "       r'$\\hat{r}^2$',\n",
    "       r'$ \\hat{r}^2_{ER}$',\n",
    "       r'$\\hat{\\rho}^2_{ 0 }$',\n",
    "       r'$\\hat{\\rho}^2_{0_{\\rm (ER)}}$', ]\n",
    "\n",
    "plt.xlim(0, 1.5)\n",
    "lly, uly = plt.gca().get_ylim()\n",
    "plt.plot([r2er, r2er], [lly, uly], c='k')\n",
    "plt.legend(leg)\n",
    "plt.xlabel('estimate')\n",
    "plt.ylabel('simulation count')\n",
    "plt.title('neuron-to-neuron alternative estimates')"
   ]
  },
  {
   "cell_type": "code",
   "execution_count": null,
   "id": "5a49f237-65ce-4801-8d3a-99f11f7c79d9",
   "metadata": {},
   "outputs": [],
   "source": []
  }
 ],
 "metadata": {
  "kernelspec": {
   "display_name": "Python 3",
   "language": "python",
   "name": "python3"
  },
  "language_info": {
   "codemirror_mode": {
    "name": "ipython",
    "version": 3
   },
   "file_extension": ".py",
   "mimetype": "text/x-python",
   "name": "python",
   "nbconvert_exporter": "python",
   "pygments_lexer": "ipython3",
   "version": "3.7.6"
  }
 },
 "nbformat": 4,
 "nbformat_minor": 5
}
